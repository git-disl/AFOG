{
 "cells": [
  {
   "cell_type": "markdown",
   "metadata": {},
   "source": [
    "# Visualize AFOG Attacks on SSD-300\n",
    "This notebook contains code for attacking and visualizing a single image with AFOG on SSD-300. Note that all three regression-based detectors use VOC, not COCO, for evaluation. Please ensure you have followed all setup steps in README.md before running this notebook, and that you are using a Conda environment with requirements_reg.txt as the package list. "
   ]
  },
  {
   "cell_type": "code",
   "execution_count": null,
   "metadata": {
    "pycharm": {
     "is_executing": false
    },
    "scrolled": true
   },
   "outputs": [],
   "source": [
    "import os\n",
    "import sys\n",
    "sys.path.append(os.getcwd()[:os.getcwd().find(\"demos\")])\n",
    "from utils.dataset_utils.voc.preprocessing import letterbox_image_padded\n",
    "from utils.misc_utils.visualization import visualize_detections\n",
    "from keras import backend as K\n",
    "from models.ssd import SSD300\n",
    "from PIL import Image\n",
    "from afog.attacks import *\n",
    "import os\n",
    "K.clear_session()\n",
    "%load_ext autoreload\n",
    "%autoreload 2"
   ]
  },
  {
   "cell_type": "markdown",
   "metadata": {},
   "source": [
    "Prepare the weights file and load it into the model. Change the path to the weights as necessary."
   ]
  },
  {
   "cell_type": "code",
   "execution_count": null,
   "metadata": {},
   "outputs": [],
   "source": [
    "weights = '../model_files/SSD300.h5' \n",
    "detector = SSD300(weights=weights)"
   ]
  },
  {
   "cell_type": "markdown",
   "metadata": {},
   "source": [
    "The three important hyperparameters for AFOG attacks are (i) the attack budget measured in L-inf norm, (ii) the attack learning rate, and (iii) the number of attack iterations."
   ]
  },
  {
   "cell_type": "code",
   "execution_count": null,
   "metadata": {},
   "outputs": [],
   "source": [
    "eps = 8 / 255.       # Hyperparameter: epsilon in L-inf norm\n",
    "eps_iter = 2 / 255.  # Hyperparameter: attack learning rate\n",
    "n_iter = 10          # Hyperparameter: number of attack iterations"
   ]
  },
  {
   "cell_type": "markdown",
   "metadata": {},
   "source": [
    "First, visualize a single image with no attacks (benign prediction)."
   ]
  },
  {
   "cell_type": "code",
   "execution_count": null,
   "metadata": {},
   "outputs": [],
   "source": [
    "fpath = \"../datasets/VOCdevkit/VOC2007/JPEGImages/000002.jpg\"\n",
    "\n",
    "input_img = Image.open(fpath)\n",
    "x_query, x_meta = letterbox_image_padded(input_img, size=detector.model_img_size)\n",
    "detections_query = detector.detect(x_query, conf_threshold=detector.confidence_thresh_default)\n",
    "visualize_detections({'Benign (No Attack)': (x_query, detections_query, detector.model_img_size, detector.classes)})"
   ]
  },
  {
   "cell_type": "markdown",
   "metadata": {},
   "source": [
    "Now apply AFOG to the image and visualize the adversarial predictions. AFOG mode can be changed with the mode parameter to either \"baseline\", \"vanishing\", or \"fabrication.\""
   ]
  },
  {
   "cell_type": "code",
   "execution_count": null,
   "metadata": {},
   "outputs": [],
   "source": [
    "# Generation of the adversarial example\n",
    "x_adv_untargeted = afog_cnn(victim=detector, x_query=x_query, mode=\"baseline\", n_iter=n_iter, eps=eps, eps_iter=eps_iter)\n",
    "\n",
    "# Visualizing the detection results on the adversarial example and compare them with that on the benign input\n",
    "detections_adv_untargeted = detector.detect(x_adv_untargeted, conf_threshold=detector.confidence_thresh_default)\n",
    "visualize_detections({'Benign (No Attack)': (x_query, detections_query, detector.model_img_size, detector.classes),\n",
    "                      'AFOG': (x_adv_untargeted, detections_adv_untargeted, detector.model_img_size, detector.classes)})"
   ]
  },
  {
   "cell_type": "code",
   "execution_count": null,
   "metadata": {},
   "outputs": [],
   "source": []
  }
 ],
 "metadata": {
  "kernelspec": {
   "display_name": "AFOG_CNN",
   "language": "python",
   "name": "afog_cnn"
  },
  "language_info": {
   "codemirror_mode": {
    "name": "ipython",
    "version": 3
   },
   "file_extension": ".py",
   "mimetype": "text/x-python",
   "name": "python",
   "nbconvert_exporter": "python",
   "pygments_lexer": "ipython3",
   "version": "3.7.16"
  }
 },
 "nbformat": 4,
 "nbformat_minor": 1
}
